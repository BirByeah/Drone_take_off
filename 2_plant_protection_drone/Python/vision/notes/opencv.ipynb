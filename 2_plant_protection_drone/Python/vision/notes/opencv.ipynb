{
 "cells": [
  {
   "cell_type": "markdown",
   "metadata": {},
   "source": [
    "## How to open the camera"
   ]
  },
  {
   "cell_type": "code",
   "execution_count": null,
   "metadata": {},
   "outputs": [
    {
     "ename": "",
     "evalue": "",
     "output_type": "error",
     "traceback": [
      "\u001b[1;31mThe Kernel crashed while executing code in the the current cell or a previous cell. Please review the code in the cell(s) to identify a possible cause of the failure. Click <a href='https://aka.ms/vscodeJupyterKernelCrash'>here</a> for more info. View Jupyter <a href='command:jupyter.viewOutput'>log</a> for further details."
     ]
    }
   ],
   "source": [
    "import cv2 as cv\n",
    "\n",
    "cap = cv.VideoCapture(0)\n",
    "print(cap.get(5))\n",
    "while True:\n",
    "    ret, frame = cap.read()\n",
    "    cv.imshow(\"frame\", frame)\n",
    "    if cv.waitKey(1) & 0xFF == ord('q'):\n",
    "       cv.imwrite(\"takephoto.jpg\", frame)\n",
    "       print(\"take Photo Ok\")\n",
    "       break\n",
    "cap.release()\n",
    "cv.destroyAllWindows()"
   ]
  },
  {
   "cell_type": "markdown",
   "metadata": {},
   "source": [
    "## find lines(laplacian, houghline)"
   ]
  },
  {
   "cell_type": "code",
   "execution_count": null,
   "metadata": {},
   "outputs": [],
   "source": [
    "import cv2 as cv\n",
    "import numpy as np\n",
    "\n",
    "cap = cv.VideoCapture(0)\n",
    "kernel = np.ones((9,9),np.uint8)\n",
    "length = 500\n",
    "while(1):\n",
    "    _, frame = cap.read()\n",
    "    frame_cpy = cv.cvtColor(frame, cv.COLOR_BGR2GRAY) # cvt the image to gray\n",
    "    frame_cpy = cv.morphologyEx(frame_cpy, cv.MORPH_OPEN, kernel) # clear the image\n",
    "    ret,edges=cv.threshold(frame_cpy,0,255,cv.THRESH_BINARY_INV + cv.THRESH_OTSU) # binarization\n",
    "    edges = cv.Laplacian(edges, cv.CV_8U) # find edges\n",
    "    cv.imshow(\"edges\", edges)\n",
    "    lines = cv.HoughLinesP(edges,1,np.pi/180,100,minLineLength=60, maxLineGap=25) # find lines, Prob!\n",
    "    try:\n",
    "        for line in lines:\n",
    "            (x1, y1, x2, y2) = line[0]\n",
    "            cv.line(frame,(x1,y1),(x2,y2),(0,0,255),2)\n",
    "    except TypeError as e:\n",
    "        # Sometimes, we can't find a line. So we have to ignore this error.\n",
    "        pass\n",
    "    cv.imshow(\"lines\", frame)\n",
    "    k = cv.waitKey(5) & 0xFF\n",
    "    if k == 27:\n",
    "        break\n",
    "cv.destroyAllWindows()"
   ]
  },
  {
   "cell_type": "markdown",
   "metadata": {},
   "source": []
  }
 ],
 "metadata": {
  "kernelspec": {
   "display_name": "Python 3.9.12 64-bit",
   "language": "python",
   "name": "python3"
  },
  "language_info": {
   "codemirror_mode": {
    "name": "ipython",
    "version": 3
   },
   "file_extension": ".py",
   "mimetype": "text/x-python",
   "name": "python",
   "nbconvert_exporter": "python",
   "pygments_lexer": "ipython3",
   "version": "3.9.12"
  },
  "orig_nbformat": 4,
  "vscode": {
   "interpreter": {
    "hash": "b4a8afd1563de5739d28335351bc467dd2760ee6263606f2d24a4b701a5e2c16"
   }
  }
 },
 "nbformat": 4,
 "nbformat_minor": 2
}
